{
 "cells": [
  {
   "cell_type": "markdown",
   "source": [
    "# Challenge #6: Forest Guards in Darmstadt’s city forest\n",
    "[Challenges](../challenges_picked.pdf)"
   ],
   "metadata": {
    "collapsed": false
   }
  },
  {
   "cell_type": "markdown",
   "source": [
    "#### Satellite-based time travel in Darmstadt’s city forest to analyse the loss of vitality\n",
    "The aim of this unique challenge is to record the changes in Darmstadt’s city forest over the last eight years using the\n",
    "latest remote sensing technology. Climate change has had a major impact on this valuable forest and we need your in\u0002novative ideas to analyse the changes in vegetation and assess the loss of vitality. With the Sentinel-2 satellites of the Copernicus Earth Observation Programme, you can access high-resolution images in the visible and infrared spectrum to document the condition of the city forest. Your solutions will help provide valuable insights for the protection and restoration of this threatened ecosystem. Be part of this exciting project and help to preserve and protect Darmstadt’s city forest. Let‘s make a difference together!\n",
    "\n",
    "#### The Challenge:\n",
    "Use satellite-based remote sensing technologies, in particular the Sentinel-2 satellites of the Copernicus Earth Obser\u0002vation Programme, to monitor the condition of the city forest and analyse changes in vegetation in the forest over a period of eight years. Your task is to record and assess the loss of vitality in this forest area, which has been severely affected by climate change.\n",
    "\n",
    "#### Background:\n",
    "Darmstadt‘s city forest is a valuable ecosystem that is suffering from the effects of climate change. The Sentinel-2 sa\u0002tellites offer the possibility to acquire high-resolution images in the visible and infrared spectrum. These images make it possible to detect and analyse changes in forest vegetation. Your goal is to quantify and map the loss of vitality and healthy forest cover over the last eight years.\n",
    "\n",
    "#### Possible approaches:\n",
    "Your solution may include developing algorithms to analyse sentinel images, identifying vitality losses in different fo\u0002rest areas, creating time series to track changes and providing concrete recommendations for forest conservation. Your work will help to provide important information for the protection and restoration of this endangered forest area."
   ],
   "metadata": {
    "collapsed": false
   }
  }
 ],
 "metadata": {
  "kernelspec": {
   "display_name": "Python 3",
   "language": "python",
   "name": "python3"
  },
  "language_info": {
   "codemirror_mode": {
    "name": "ipython",
    "version": 2
   },
   "file_extension": ".py",
   "mimetype": "text/x-python",
   "name": "python",
   "nbconvert_exporter": "python",
   "pygments_lexer": "ipython2",
   "version": "2.7.6"
  }
 },
 "nbformat": 4,
 "nbformat_minor": 0
}
