{
 "cells": [
  {
   "cell_type": "markdown",
   "source": [
    "# Climathon 2023 Challenge: Pool Detection\n",
    "[Challenges](../challenges_picked.pdf)\n"
   ],
   "metadata": {
    "collapsed": false
   }
  },
  {
   "cell_type": "code",
   "execution_count": 1,
   "metadata": {
    "collapsed": true
   },
   "outputs": [
    {
     "name": "stdout",
     "output_type": "stream",
     "text": [
      "upload and label your dataset, and get an API KEY here: https://app.roboflow.com/?model=undefined&ref=undefined\n",
      "loading Roboflow workspace...\n"
     ]
    },
    {
     "ename": "AttributeError",
     "evalue": "'Roboflow' object has no attribute 'current_workspace'",
     "output_type": "error",
     "traceback": [
      "\u001B[1;31m---------------------------------------------------------------------------\u001B[0m",
      "\u001B[1;31mAttributeError\u001B[0m                            Traceback (most recent call last)",
      "Cell \u001B[1;32mIn[1], line 3\u001B[0m\n\u001B[0;32m      1\u001B[0m \u001B[38;5;28;01mfrom\u001B[39;00m \u001B[38;5;21;01mroboflow\u001B[39;00m \u001B[38;5;28;01mimport\u001B[39;00m Roboflow\n\u001B[0;32m      2\u001B[0m rf \u001B[38;5;241m=\u001B[39m Roboflow(api_key\u001B[38;5;241m=\u001B[39m\u001B[38;5;124m\"\u001B[39m\u001B[38;5;124mAPI_KEY\u001B[39m\u001B[38;5;124m\"\u001B[39m)\n\u001B[1;32m----> 3\u001B[0m project \u001B[38;5;241m=\u001B[39m \u001B[43mrf\u001B[49m\u001B[38;5;241;43m.\u001B[39;49m\u001B[43mworkspace\u001B[49m\u001B[43m(\u001B[49m\u001B[43m)\u001B[49m\u001B[38;5;241m.\u001B[39mproject(\u001B[38;5;124m\"\u001B[39m\u001B[38;5;124mswimming-pools-dctlb\u001B[39m\u001B[38;5;124m\"\u001B[39m)\n\u001B[0;32m      4\u001B[0m model \u001B[38;5;241m=\u001B[39m project\u001B[38;5;241m.\u001B[39mversion(\u001B[38;5;241m2\u001B[39m)\u001B[38;5;241m.\u001B[39mmodel\n\u001B[0;32m      6\u001B[0m \u001B[38;5;66;03m# infer on a local image\u001B[39;00m\n",
      "File \u001B[1;32m~\\Documents\\climathon\\climathon\\pool_challenge\\venv\\lib\\site-packages\\roboflow\\__init__.py:273\u001B[0m, in \u001B[0;36mRoboflow.workspace\u001B[1;34m(self, the_workspace)\u001B[0m\n\u001B[0;32m    270\u001B[0m sys\u001B[38;5;241m.\u001B[39mstdout\u001B[38;5;241m.\u001B[39mflush()\n\u001B[0;32m    272\u001B[0m \u001B[38;5;28;01mif\u001B[39;00m the_workspace \u001B[38;5;129;01mis\u001B[39;00m \u001B[38;5;28;01mNone\u001B[39;00m:\n\u001B[1;32m--> 273\u001B[0m     the_workspace \u001B[38;5;241m=\u001B[39m \u001B[38;5;28;43mself\u001B[39;49m\u001B[38;5;241;43m.\u001B[39;49m\u001B[43mcurrent_workspace\u001B[49m\n\u001B[0;32m    275\u001B[0m \u001B[38;5;28;01mif\u001B[39;00m \u001B[38;5;28mself\u001B[39m\u001B[38;5;241m.\u001B[39mapi_key \u001B[38;5;129;01min\u001B[39;00m DEMO_KEYS:\n\u001B[0;32m    276\u001B[0m     \u001B[38;5;28;01mreturn\u001B[39;00m Workspace({}, \u001B[38;5;28mself\u001B[39m\u001B[38;5;241m.\u001B[39mapi_key, the_workspace, \u001B[38;5;28mself\u001B[39m\u001B[38;5;241m.\u001B[39mmodel_format)\n",
      "\u001B[1;31mAttributeError\u001B[0m: 'Roboflow' object has no attribute 'current_workspace'"
     ]
    }
   ],
   "source": [
    "from roboflow import Roboflow\n",
    "rf = Roboflow(api_key=\"API_KEY\")\n",
    "project = rf.workspace().project(\"swimming-pools-dctlb\")\n",
    "model = project.version(2).model\n",
    "\n",
    "# infer on a local image\n",
    "print(model.predict(\"your_image.jpg\", confidence=40, overlap=30).json())"
   ]
  },
  {
   "cell_type": "code",
   "execution_count": null,
   "outputs": [],
   "source": [],
   "metadata": {
    "collapsed": false
   }
  }
 ],
 "metadata": {
  "kernelspec": {
   "display_name": "Python 3",
   "language": "python",
   "name": "python3"
  },
  "language_info": {
   "codemirror_mode": {
    "name": "ipython",
    "version": 2
   },
   "file_extension": ".py",
   "mimetype": "text/x-python",
   "name": "python",
   "nbconvert_exporter": "python",
   "pygments_lexer": "ipython2",
   "version": "2.7.6"
  }
 },
 "nbformat": 4,
 "nbformat_minor": 0
}
