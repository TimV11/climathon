{
 "cells": [
  {
   "cell_type": "code",
   "execution_count": null,
   "metadata": {},
   "outputs": [],
   "source": []
  }
 ],
 "metadata": {
  "kernelspec": {
   "display_name": "env",
   "language": "python",
   "name": "python3"
  },
  "language_info": {
   "name": "python",
   "version": "3.11.3 (main, Jun  5 2023, 09:32:32) [GCC 13.1.1 20230429]"
  },
  "orig_nbformat": 4,
  "vscode": {
   "interpreter": {
    "hash": "75e446274dfbc35952f04739cb5f6cb79a8816bf00911d9d6f7a19797dd0d58c"
   }
  }
 },
 "nbformat": 4,
 "nbformat_minor": 2
}
